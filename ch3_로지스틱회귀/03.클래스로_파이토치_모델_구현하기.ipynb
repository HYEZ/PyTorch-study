{
 "cells": [
  {
   "cell_type": "markdown",
   "metadata": {},
   "source": [
    "# 03. 클래스로 파이토치 모델 구현하기\n",
    "파이토치의 대부분의 구현체들은 대부분 모델을 생성할 때 클래스(Class)를 사용하고 있습니다. 앞서 배운 로지스틱 회귀를 클래스로 구현해보겠습니다. 앞서 구현한 코드와 다른 점은 오직 클래스로 모델을 구현했다는 점입니다.\n",
    "\n",
    "## 1. 모델을 클래스로 구현하기\n",
    "앞서 로지스틱 회귀 모델은 다음과 같이 구현했었습니다.\n",
    "\n"
   ]
  },
  {
   "cell_type": "code",
   "execution_count": 1,
   "metadata": {},
   "outputs": [],
   "source": [
    "import torch\n",
    "import torch.nn as nn\n",
    "import torch.nn.functional as F\n",
    "import torch.optim as optim"
   ]
  },
  {
   "cell_type": "code",
   "execution_count": 2,
   "metadata": {},
   "outputs": [
    {
     "data": {
      "text/plain": [
       "<torch._C.Generator at 0x1167b1610>"
      ]
     },
     "execution_count": 2,
     "metadata": {},
     "output_type": "execute_result"
    }
   ],
   "source": [
    "torch.manual_seed(1)"
   ]
  },
  {
   "cell_type": "code",
   "execution_count": 3,
   "metadata": {},
   "outputs": [],
   "source": [
    "model = nn.Sequential(\n",
    "    nn.Linear(2, 1), # input_dim = 2, output_dim = 1\n",
    "    nn.Sigmoid() # 출력은 시그모이드 함수를 거친다\n",
    ")"
   ]
  },
  {
   "cell_type": "markdown",
   "metadata": {},
   "source": [
    "이를 클래스로 구현하면 다음과 같습니다.\n",
    "\n"
   ]
  },
  {
   "cell_type": "code",
   "execution_count": 5,
   "metadata": {},
   "outputs": [],
   "source": [
    "class BinaryClassifier(nn.Module):\n",
    "    def __init__(self):\n",
    "        super().__init__()\n",
    "        self.linear = nn.Linear(2, 1)\n",
    "        self.sigmoid = nn.Sigmoid()\n",
    "    \n",
    "    def forward(self, x):\n",
    "        return self.sigmoid(self.linear(x))\n",
    "    "
   ]
  },
  {
   "cell_type": "markdown",
   "metadata": {},
   "source": [
    "위와 같은 클래스를 사용한 모델 구현 형식은 대부분의 파이토치 구현체에서 사용하고 있는 방식으로 반드시 숙지할 필요가 있습니다.\n",
    "\n",
    "클래스(class) 형태의 모델은 nn.Module 을 상속받습니다. 그리고 __init__()에서 모델의 구조와 동적을 정의하는 생성자를 정의합니다. 이는 파이썬에서 객체가 갖는 속성값을 초기화하는 역할로, 객체가 생성될 때 자동으로 호출됩니다. super() 함수를 부르면 여기서 만든 클래스는 nn.Module 클래스의 속성들을 가지고 초기화 됩니다. foward() 함수는 모델이 학습데이터를 입력받아서 forward 연산을 진행시키는 함수입니다. 이 forward() 함수는 model 객체를 데이터와 함께 호출하면 자동으로 실행이됩니다. 예를 들어 model이란 이름의 객체를 생성 후, model(입력 데이터)와 같은 형식으로 객체를 호출하면 자동으로 forward 연산이 수행됩니다.\n",
    "\n",
    "- H(x) 식에 입력 x로부터 예측된 y를 얻는 것을 forward 연산이라고 합니다.\n"
   ]
  },
  {
   "cell_type": "markdown",
   "metadata": {},
   "source": [
    "***\n",
    "\n",
    "## 2. 로지스틱 회귀 클래스로 구현하기\n",
    "이제 모델을 클래스로 구현한 코드를 보겠습니다. 달라진 점은 모델을 클래스로 구현했다는 점 뿐입니다. 다른 코드는 전부 동일합니다.\n",
    "\n"
   ]
  },
  {
   "cell_type": "code",
   "execution_count": 6,
   "metadata": {},
   "outputs": [],
   "source": [
    "x_data = [[1, 2], [2, 3], [3, 1], [4, 3], [5, 3], [6, 2]]\n",
    "y_data = [[0], [0], [0], [1], [1], [1]]\n",
    "x_train = torch.FloatTensor(x_data)\n",
    "y_train = torch.FloatTensor(y_data)"
   ]
  },
  {
   "cell_type": "code",
   "execution_count": 7,
   "metadata": {},
   "outputs": [],
   "source": [
    "class BinaryClassifier(nn.Module):\n",
    "    def __init__(self):\n",
    "        super().__init__()\n",
    "        self.linear = nn.Linear(2, 1)\n",
    "        self.sigmoid = nn.Sigmoid()\n",
    "    \n",
    "    def forward(self, x):\n",
    "        return self.sigmoid(self.linear(x))"
   ]
  },
  {
   "cell_type": "code",
   "execution_count": 8,
   "metadata": {},
   "outputs": [],
   "source": [
    "model = BinaryClassifier()"
   ]
  },
  {
   "cell_type": "code",
   "execution_count": 11,
   "metadata": {},
   "outputs": [
    {
     "name": "stdout",
     "output_type": "stream",
     "text": [
      "Epoch    0/1000 Cost: 0.809765 Accuracy: 50.00%\n",
      "Epoch   10/1000 Cost: 0.593738 Accuracy: 50.00%\n",
      "Epoch   20/1000 Cost: 0.480572 Accuracy: 66.67%\n",
      "Epoch   30/1000 Cost: 0.406942 Accuracy: 83.33%\n",
      "Epoch   40/1000 Cost: 0.345467 Accuracy: 83.33%\n",
      "Epoch   50/1000 Cost: 0.292157 Accuracy: 83.33%\n",
      "Epoch   60/1000 Cost: 0.244117 Accuracy: 100.00%\n",
      "Epoch   70/1000 Cost: 0.201215 Accuracy: 100.00%\n",
      "Epoch   80/1000 Cost: 0.168524 Accuracy: 100.00%\n",
      "Epoch   90/1000 Cost: 0.150292 Accuracy: 100.00%\n",
      "Epoch  100/1000 Cost: 0.139289 Accuracy: 100.00%\n",
      "Epoch  110/1000 Cost: 0.130143 Accuracy: 100.00%\n",
      "Epoch  120/1000 Cost: 0.122149 Accuracy: 100.00%\n",
      "Epoch  130/1000 Cost: 0.115098 Accuracy: 100.00%\n",
      "Epoch  140/1000 Cost: 0.108831 Accuracy: 100.00%\n",
      "Epoch  150/1000 Cost: 0.103226 Accuracy: 100.00%\n",
      "Epoch  160/1000 Cost: 0.098182 Accuracy: 100.00%\n",
      "Epoch  170/1000 Cost: 0.093620 Accuracy: 100.00%\n",
      "Epoch  180/1000 Cost: 0.089473 Accuracy: 100.00%\n",
      "Epoch  190/1000 Cost: 0.085686 Accuracy: 100.00%\n",
      "Epoch  200/1000 Cost: 0.082215 Accuracy: 100.00%\n",
      "Epoch  210/1000 Cost: 0.079020 Accuracy: 100.00%\n",
      "Epoch  220/1000 Cost: 0.076071 Accuracy: 100.00%\n",
      "Epoch  230/1000 Cost: 0.073340 Accuracy: 100.00%\n",
      "Epoch  240/1000 Cost: 0.070802 Accuracy: 100.00%\n",
      "Epoch  250/1000 Cost: 0.068439 Accuracy: 100.00%\n",
      "Epoch  260/1000 Cost: 0.066232 Accuracy: 100.00%\n",
      "Epoch  270/1000 Cost: 0.064166 Accuracy: 100.00%\n",
      "Epoch  280/1000 Cost: 0.062228 Accuracy: 100.00%\n",
      "Epoch  290/1000 Cost: 0.060407 Accuracy: 100.00%\n",
      "Epoch  300/1000 Cost: 0.058691 Accuracy: 100.00%\n",
      "Epoch  310/1000 Cost: 0.057073 Accuracy: 100.00%\n",
      "Epoch  320/1000 Cost: 0.055543 Accuracy: 100.00%\n",
      "Epoch  330/1000 Cost: 0.054095 Accuracy: 100.00%\n",
      "Epoch  340/1000 Cost: 0.052722 Accuracy: 100.00%\n",
      "Epoch  350/1000 Cost: 0.051419 Accuracy: 100.00%\n",
      "Epoch  360/1000 Cost: 0.050180 Accuracy: 100.00%\n",
      "Epoch  370/1000 Cost: 0.049000 Accuracy: 100.00%\n",
      "Epoch  380/1000 Cost: 0.047875 Accuracy: 100.00%\n",
      "Epoch  390/1000 Cost: 0.046803 Accuracy: 100.00%\n",
      "Epoch  400/1000 Cost: 0.045777 Accuracy: 100.00%\n",
      "Epoch  410/1000 Cost: 0.044797 Accuracy: 100.00%\n",
      "Epoch  420/1000 Cost: 0.043859 Accuracy: 100.00%\n",
      "Epoch  430/1000 Cost: 0.042960 Accuracy: 100.00%\n",
      "Epoch  440/1000 Cost: 0.042097 Accuracy: 100.00%\n",
      "Epoch  450/1000 Cost: 0.041269 Accuracy: 100.00%\n",
      "Epoch  460/1000 Cost: 0.040474 Accuracy: 100.00%\n",
      "Epoch  470/1000 Cost: 0.039709 Accuracy: 100.00%\n",
      "Epoch  480/1000 Cost: 0.038973 Accuracy: 100.00%\n",
      "Epoch  490/1000 Cost: 0.038264 Accuracy: 100.00%\n",
      "Epoch  500/1000 Cost: 0.037581 Accuracy: 100.00%\n",
      "Epoch  510/1000 Cost: 0.036923 Accuracy: 100.00%\n",
      "Epoch  520/1000 Cost: 0.036287 Accuracy: 100.00%\n",
      "Epoch  530/1000 Cost: 0.035673 Accuracy: 100.00%\n",
      "Epoch  540/1000 Cost: 0.035080 Accuracy: 100.00%\n",
      "Epoch  550/1000 Cost: 0.034507 Accuracy: 100.00%\n",
      "Epoch  560/1000 Cost: 0.033952 Accuracy: 100.00%\n",
      "Epoch  570/1000 Cost: 0.033415 Accuracy: 100.00%\n",
      "Epoch  580/1000 Cost: 0.032895 Accuracy: 100.00%\n",
      "Epoch  590/1000 Cost: 0.032391 Accuracy: 100.00%\n",
      "Epoch  600/1000 Cost: 0.031903 Accuracy: 100.00%\n",
      "Epoch  610/1000 Cost: 0.031429 Accuracy: 100.00%\n",
      "Epoch  620/1000 Cost: 0.030969 Accuracy: 100.00%\n",
      "Epoch  630/1000 Cost: 0.030523 Accuracy: 100.00%\n",
      "Epoch  640/1000 Cost: 0.030089 Accuracy: 100.00%\n",
      "Epoch  650/1000 Cost: 0.029668 Accuracy: 100.00%\n",
      "Epoch  660/1000 Cost: 0.029259 Accuracy: 100.00%\n",
      "Epoch  670/1000 Cost: 0.028861 Accuracy: 100.00%\n",
      "Epoch  680/1000 Cost: 0.028473 Accuracy: 100.00%\n",
      "Epoch  690/1000 Cost: 0.028096 Accuracy: 100.00%\n",
      "Epoch  700/1000 Cost: 0.027729 Accuracy: 100.00%\n",
      "Epoch  710/1000 Cost: 0.027372 Accuracy: 100.00%\n",
      "Epoch  720/1000 Cost: 0.027024 Accuracy: 100.00%\n",
      "Epoch  730/1000 Cost: 0.026684 Accuracy: 100.00%\n",
      "Epoch  740/1000 Cost: 0.026353 Accuracy: 100.00%\n",
      "Epoch  750/1000 Cost: 0.026031 Accuracy: 100.00%\n",
      "Epoch  760/1000 Cost: 0.025716 Accuracy: 100.00%\n",
      "Epoch  770/1000 Cost: 0.025409 Accuracy: 100.00%\n",
      "Epoch  780/1000 Cost: 0.025109 Accuracy: 100.00%\n",
      "Epoch  790/1000 Cost: 0.024816 Accuracy: 100.00%\n",
      "Epoch  800/1000 Cost: 0.024530 Accuracy: 100.00%\n",
      "Epoch  810/1000 Cost: 0.024250 Accuracy: 100.00%\n",
      "Epoch  820/1000 Cost: 0.023977 Accuracy: 100.00%\n",
      "Epoch  830/1000 Cost: 0.023710 Accuracy: 100.00%\n",
      "Epoch  840/1000 Cost: 0.023449 Accuracy: 100.00%\n",
      "Epoch  850/1000 Cost: 0.023194 Accuracy: 100.00%\n",
      "Epoch  860/1000 Cost: 0.022944 Accuracy: 100.00%\n",
      "Epoch  870/1000 Cost: 0.022700 Accuracy: 100.00%\n",
      "Epoch  880/1000 Cost: 0.022461 Accuracy: 100.00%\n",
      "Epoch  890/1000 Cost: 0.022226 Accuracy: 100.00%\n",
      "Epoch  900/1000 Cost: 0.021997 Accuracy: 100.00%\n",
      "Epoch  910/1000 Cost: 0.021772 Accuracy: 100.00%\n",
      "Epoch  920/1000 Cost: 0.021552 Accuracy: 100.00%\n",
      "Epoch  930/1000 Cost: 0.021337 Accuracy: 100.00%\n",
      "Epoch  940/1000 Cost: 0.021126 Accuracy: 100.00%\n",
      "Epoch  950/1000 Cost: 0.020919 Accuracy: 100.00%\n",
      "Epoch  960/1000 Cost: 0.020715 Accuracy: 100.00%\n",
      "Epoch  970/1000 Cost: 0.020516 Accuracy: 100.00%\n",
      "Epoch  980/1000 Cost: 0.020321 Accuracy: 100.00%\n",
      "Epoch  990/1000 Cost: 0.020129 Accuracy: 100.00%\n",
      "Epoch 1000/1000 Cost: 0.019941 Accuracy: 100.00%\n"
     ]
    }
   ],
   "source": [
    "# optimizer 설정\n",
    "optimizer = optim.SGD(model.parameters(), lr=1)\n",
    "\n",
    "nb_epochs = 1000\n",
    "for epoch in range(nb_epochs + 1):\n",
    "    hypothesis = model(x_train)\n",
    "    \n",
    "    cost = F.binary_cross_entropy(hypothesis, y_train)\n",
    "    \n",
    "    optimizer.zero_grad()\n",
    "    cost.backward()\n",
    "    optimizer.step()\n",
    "    \n",
    "    if epoch % 10 == 0:\n",
    "        prediction = hypothesis >= torch.FloatTensor([0.5])\n",
    "        correct_prediction = prediction.float() == y_train\n",
    "        accuracy = correct_prediction.sum().item() / len(correct_prediction)\n",
    "        print('Epoch {:4d}/{} Cost: {:.6f} Accuracy: {:2.2f}%'.format(\n",
    "            epoch, nb_epochs, cost.item(), accuracy * 100\n",
    "        ))"
   ]
  },
  {
   "cell_type": "code",
   "execution_count": null,
   "metadata": {},
   "outputs": [],
   "source": []
  }
 ],
 "metadata": {
  "kernelspec": {
   "display_name": "torch",
   "language": "python",
   "name": "torch"
  },
  "language_info": {
   "codemirror_mode": {
    "name": "ipython",
    "version": 3
   },
   "file_extension": ".py",
   "mimetype": "text/x-python",
   "name": "python",
   "nbconvert_exporter": "python",
   "pygments_lexer": "ipython3",
   "version": "3.7.9"
  }
 },
 "nbformat": 4,
 "nbformat_minor": 4
}
