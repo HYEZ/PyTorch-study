{
 "cells": [
  {
   "cell_type": "markdown",
   "metadata": {},
   "source": [
    "# 07. 커스텀 데이터셋(Custom Dataset)\n",
    "앞 내용을 잠깐 복습해봅시다. 파이토치에서는 데이터셋을 좀 더 쉽게 다룰 수 있도록 유용한 도구로서 torch.utils.data.Dataset과 torch.utils.data.DataLoader를 제공합니다. 이를 사용하면 미니 배치 학습, 데이터 셔플(shuffle), 병렬 처리까지 간단히 수행할 수 있습니다. 기본적인 사용 방법은 Dataset을 정의하고, 이를 DataLoader에 전달하는 것입니다.\n",
    "\n",
    "## 1. 커스텀 데이터셋(Custom Dataset)\n",
    "그런데 torch.utils.data.Dataset을 상속받아 직접 커스텀 데이터셋(Custom Dataset)을 만드는 경우도 있습니다. __torch.utils.data.Dataset은 파이토치에서 데이터셋을 제공하는 `추상 클래스`입니다.__ Dataset을 상속받아 다음 메소드들을 오버라이드 하여 커스텀 데이터셋을 만들어보겠습니다.\n",
    "\n",
    "커스텀 데이터셋을 만들 때, 일단 가장 기본적인 뼈대는 아래와 같습니다. 여기서 필요한 기본적인 define은 3개입니다."
   ]
  },
  {
   "cell_type": "code",
   "execution_count": null,
   "metadata": {},
   "outputs": [],
   "source": [
    "class CustomDataset(torch.utils.data.Dataset): \n",
    "    def __init__(self):\n",
    "        # 데이터셋의 전처리를 해주는 부분\n",
    "\n",
    "    def __len__(self):\n",
    "        # 데이터셋의 길이. 즉, 총 샘플의 수를 적어주는 부분\n",
    "\n",
    "    def __getitem__(self, idx): \n",
    "        # 데이터셋에서 특정 1개의 샘플을 가져오는 함수"
   ]
  },
  {
   "cell_type": "markdown",
   "metadata": {},
   "source": [
    "- len(dataset)을 했을 때 데이터셋의 크기를 리턴할 len\n",
    "- dataset[i]을 했을 때 i번째 샘플을 가져오도록 하는 인덱싱을 위한 get_item\n"
   ]
  },
  {
   "cell_type": "markdown",
   "metadata": {},
   "source": [
    "***\n",
    "\n",
    "## 2. 커스텀 데이터셋(Custom Dataset)으로 선형 회귀 구현하기\n"
   ]
  },
  {
   "cell_type": "code",
   "execution_count": 17,
   "metadata": {},
   "outputs": [],
   "source": [
    "import torch\n",
    "import torch.nn.functional as F"
   ]
  },
  {
   "cell_type": "code",
   "execution_count": 18,
   "metadata": {},
   "outputs": [],
   "source": [
    "from torch.utils.data import Dataset\n",
    "from torch.utils.data import DataLoader"
   ]
  },
  {
   "cell_type": "code",
   "execution_count": 23,
   "metadata": {},
   "outputs": [],
   "source": [
    "# Dataset 상속\n",
    "class CustomDataset(Dataset):\n",
    "    def __init__(self):\n",
    "        self.x_data = [[73, 80, 75],\n",
    "                   [93, 88, 93],\n",
    "                   [89, 91, 90],\n",
    "                   [96, 98, 100],\n",
    "                   [73, 66, 70]]\n",
    "        self.y_data = [[152], [185], [180], [196], [142]]\n",
    "    \n",
    "    def __len__(self):\n",
    "        return len(self.x_data)\n",
    "    \n",
    "    def __getitem__(self, idx):\n",
    "        x = torch.FloatTensor(self.x_data[idx])\n",
    "        y = torch.FloatTensor(self.y_data[idx])\n",
    "        return x, y"
   ]
  },
  {
   "cell_type": "code",
   "execution_count": 35,
   "metadata": {},
   "outputs": [],
   "source": [
    "dataset = CustomDataset()\n",
    "dataloader = DataLoader(dataset, batch_size=2, shuffle=True)"
   ]
  },
  {
   "cell_type": "code",
   "execution_count": 25,
   "metadata": {},
   "outputs": [],
   "source": [
    "model = torch.nn.Linear(3, 1)\n",
    "optimizer = torch.optim.SGD(model.parameters(), lr=1e-5)"
   ]
  },
  {
   "cell_type": "code",
   "execution_count": 26,
   "metadata": {},
   "outputs": [
    {
     "name": "stdout",
     "output_type": "stream",
     "text": [
      "Epoch    0/20 Batch1/3 Cost: 73945.468750\n",
      "Epoch    0/20 Batch2/3 Cost: 12014.589844\n",
      "Epoch    0/20 Batch3/3 Cost: 3161.554199\n",
      "Epoch    1/20 Batch1/3 Cost: 1614.686523\n",
      "Epoch    1/20 Batch2/3 Cost: 1117.088867\n",
      "Epoch    1/20 Batch3/3 Cost: 307.931915\n",
      "Epoch    2/20 Batch1/3 Cost: 43.864662\n",
      "Epoch    2/20 Batch2/3 Cost: 17.931057\n",
      "Epoch    2/20 Batch3/3 Cost: 13.595631\n",
      "Epoch    3/20 Batch1/3 Cost: 3.521198\n",
      "Epoch    3/20 Batch2/3 Cost: 1.447977\n",
      "Epoch    3/20 Batch3/3 Cost: 0.678004\n",
      "Epoch    4/20 Batch1/3 Cost: 1.538845\n",
      "Epoch    4/20 Batch2/3 Cost: 2.502191\n",
      "Epoch    4/20 Batch3/3 Cost: 2.008429\n",
      "Epoch    5/20 Batch1/3 Cost: 3.347962\n",
      "Epoch    5/20 Batch2/3 Cost: 1.355258\n",
      "Epoch    5/20 Batch3/3 Cost: 0.742307\n",
      "Epoch    6/20 Batch1/3 Cost: 0.436006\n",
      "Epoch    6/20 Batch2/3 Cost: 2.072350\n",
      "Epoch    6/20 Batch3/3 Cost: 4.963222\n",
      "Epoch    7/20 Batch1/3 Cost: 1.282075\n",
      "Epoch    7/20 Batch2/3 Cost: 2.952949\n",
      "Epoch    7/20 Batch3/3 Cost: 0.812298\n",
      "Epoch    8/20 Batch1/3 Cost: 0.464656\n",
      "Epoch    8/20 Batch2/3 Cost: 1.775334\n",
      "Epoch    8/20 Batch3/3 Cost: 4.806275\n",
      "Epoch    9/20 Batch1/3 Cost: 3.101990\n",
      "Epoch    9/20 Batch2/3 Cost: 0.885762\n",
      "Epoch    9/20 Batch3/3 Cost: 1.597715\n",
      "Epoch   10/20 Batch1/3 Cost: 2.611560\n",
      "Epoch   10/20 Batch2/3 Cost: 1.635197\n",
      "Epoch   10/20 Batch3/3 Cost: 0.441547\n",
      "Epoch   11/20 Batch1/3 Cost: 2.986359\n",
      "Epoch   11/20 Batch2/3 Cost: 1.243956\n",
      "Epoch   11/20 Batch3/3 Cost: 0.499375\n",
      "Epoch   12/20 Batch1/3 Cost: 2.554473\n",
      "Epoch   12/20 Batch2/3 Cost: 1.370262\n",
      "Epoch   12/20 Batch3/3 Cost: 3.205387\n",
      "Epoch   13/20 Batch1/3 Cost: 0.879230\n",
      "Epoch   13/20 Batch2/3 Cost: 2.236511\n",
      "Epoch   13/20 Batch3/3 Cost: 5.307506\n",
      "Epoch   14/20 Batch1/3 Cost: 2.997023\n",
      "Epoch   14/20 Batch2/3 Cost: 1.145772\n",
      "Epoch   14/20 Batch3/3 Cost: 2.033897\n",
      "Epoch   15/20 Batch1/3 Cost: 1.524836\n",
      "Epoch   15/20 Batch2/3 Cost: 4.638468\n",
      "Epoch   15/20 Batch3/3 Cost: 0.366500\n",
      "Epoch   16/20 Batch1/3 Cost: 2.995400\n",
      "Epoch   16/20 Batch2/3 Cost: 1.250386\n",
      "Epoch   16/20 Batch3/3 Cost: 0.475472\n",
      "Epoch   17/20 Batch1/3 Cost: 3.595513\n",
      "Epoch   17/20 Batch2/3 Cost: 2.365746\n",
      "Epoch   17/20 Batch3/3 Cost: 0.459469\n",
      "Epoch   18/20 Batch1/3 Cost: 0.285294\n",
      "Epoch   18/20 Batch2/3 Cost: 3.372746\n",
      "Epoch   18/20 Batch3/3 Cost: 2.423795\n",
      "Epoch   19/20 Batch1/3 Cost: 1.199357\n",
      "Epoch   19/20 Batch2/3 Cost: 2.891723\n",
      "Epoch   19/20 Batch3/3 Cost: 0.735172\n",
      "Epoch   20/20 Batch1/3 Cost: 2.485640\n",
      "Epoch   20/20 Batch2/3 Cost: 1.233180\n",
      "Epoch   20/20 Batch3/3 Cost: 2.849459\n"
     ]
    }
   ],
   "source": [
    "nb_epochs = 20\n",
    "for epoch in range(nb_epochs + 1):\n",
    "    for batch_idx, samples in enumerate(dataloader):\n",
    "#         print(samples)\n",
    "        x_train, y_train = samples\n",
    "        prediction = model(x_train)\n",
    "        \n",
    "        cost  = F.mse_loss(prediction, y_train)\n",
    "        \n",
    "        optimizer.zero_grad()\n",
    "        cost.backward()\n",
    "        optimizer.step()\n",
    "        \n",
    "        print('Epoch {:4d}/{} Batch{}/{} Cost: {:.6f}'.format(\n",
    "            epoch, nb_epochs, batch_idx+1, len(dataloader), cost.item()\n",
    "        ))"
   ]
  },
  {
   "cell_type": "code",
   "execution_count": 31,
   "metadata": {},
   "outputs": [
    {
     "name": "stdout",
     "output_type": "stream",
     "text": [
      "5\n",
      "(tensor([93., 88., 93.]), tensor([185.]))\n",
      "(tensor([73., 80., 75.]), tensor([152.]))\n",
      "(tensor([93., 88., 93.]), tensor([185.]))\n",
      "(tensor([89., 91., 90.]), tensor([180.]))\n",
      "(tensor([ 96.,  98., 100.]), tensor([196.]))\n",
      "(tensor([73., 66., 70.]), tensor([142.]))\n"
     ]
    }
   ],
   "source": [
    "print(len(dataset))\n",
    "print(dataset[1])\n",
    "for i in dataset:\n",
    "    print(i)"
   ]
  },
  {
   "cell_type": "code",
   "execution_count": 32,
   "metadata": {},
   "outputs": [
    {
     "name": "stdout",
     "output_type": "stream",
     "text": [
      "훈련 후 입력이 73, 80, 75일 때의 예측값 : tensor([[153.0047]], grad_fn=<AddmmBackward>)\n"
     ]
    }
   ],
   "source": [
    "# 임의의 입력 [73, 80, 75]를 선언\n",
    "new_var =  torch.FloatTensor([[73, 80, 75]]) \n",
    "\n",
    "# 입력한 값 [73, 80, 75]에 대해서 예측값 y를 리턴받아서 pred_y에 저장\n",
    "pred_y = model(new_var) \n",
    "\n",
    "print(\"훈련 후 입력이 73, 80, 75일 때의 예측값 :\", pred_y) "
   ]
  },
  {
   "cell_type": "code",
   "execution_count": null,
   "metadata": {},
   "outputs": [],
   "source": []
  }
 ],
 "metadata": {
  "kernelspec": {
   "display_name": "torch",
   "language": "python",
   "name": "torch"
  },
  "language_info": {
   "codemirror_mode": {
    "name": "ipython",
    "version": 3
   },
   "file_extension": ".py",
   "mimetype": "text/x-python",
   "name": "python",
   "nbconvert_exporter": "python",
   "pygments_lexer": "ipython3",
   "version": "3.7.9"
  }
 },
 "nbformat": 4,
 "nbformat_minor": 4
}
