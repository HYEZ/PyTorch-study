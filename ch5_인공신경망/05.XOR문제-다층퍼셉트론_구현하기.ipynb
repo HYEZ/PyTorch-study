{
 "cells": [
  {
   "cell_type": "markdown",
   "metadata": {},
   "source": [
    "# 05. XOR 문제 - 다층 퍼셉트론 구현하기\n",
    "이번 챕터에서는 파이토치를 사용해서 다층 퍼셉트론을 구현하여 XOR 문제를 풀어보는 것을 시도해보겠습니다. 파이토치에서는 앞에서 배운 역전파가 아래의 두 줄의 코드로서 구현됩니다.\n",
    "\n",
    "## 1. 파이토치로 다층 퍼셉트론 구현하기\n"
   ]
  },
  {
   "cell_type": "code",
   "execution_count": 1,
   "metadata": {},
   "outputs": [],
   "source": [
    "import torch\n",
    "import torch.nn as nn"
   ]
  },
  {
   "cell_type": "code",
   "execution_count": 2,
   "metadata": {},
   "outputs": [],
   "source": [
    "device = 'cuda' if torch.cuda.is_available() else 'cpu'\n",
    "\n",
    "torch.manual_seed(777)\n",
    "if device == 'cuda':\n",
    "    torch.cuda.manual_seed(777)"
   ]
  },
  {
   "cell_type": "markdown",
   "metadata": {},
   "source": [
    "XOR 문제를 풀기 위한 입력과 출력을 정의해줍니다.\n",
    "\n"
   ]
  },
  {
   "cell_type": "code",
   "execution_count": 3,
   "metadata": {},
   "outputs": [],
   "source": [
    "X = torch.FloatTensor([[0, 0], [0, 1], [1, 0], [1, 1]]).to(device)\n",
    "Y = torch.FloatTensor([[0], [1], [1], [0]]).to(device)"
   ]
  },
  {
   "cell_type": "markdown",
   "metadata": {},
   "source": [
    "이제 다층 퍼셉트론을 설계합니다. 아래는 입력층, 은닉층1, 은닉층2, 은닉층3, 출력층을 가지는 은닉층이 3개인 인공 신경망입니다.\n",
    "\n"
   ]
  },
  {
   "cell_type": "code",
   "execution_count": 34,
   "metadata": {},
   "outputs": [],
   "source": [
    "model = nn.Sequential(\n",
    "          nn.Linear(2, 10, bias=True), # input_layer = 2, hidden_layer1 = 10\n",
    "          nn.Sigmoid(),\n",
    "          nn.Linear(10, 10, bias=True), # hidden_layer1 = 10, hidden_layer2 = 10\n",
    "          nn.Sigmoid(),\n",
    "          nn.Linear(10, 10, bias=True), # hidden_layer2 = 10, hidden_layer3 = 10\n",
    "          nn.Sigmoid(),\n",
    "          nn.Linear(10, 1, bias=True), # hidden_layer3 = 10, output_layer = 1\n",
    "          nn.Sigmoid()\n",
    ").to(device)"
   ]
  },
  {
   "cell_type": "markdown",
   "metadata": {},
   "source": [
    "위 인공 신경망을 그림으로 표현하면 아래와 같습니다.\n",
    "\n",
    "<img align='left' src='https://wikidocs.net/images/page/61010/ann.PNG'>"
   ]
  },
  {
   "cell_type": "markdown",
   "metadata": {},
   "source": [
    "이제 비용 함수와 옵타마이저를 선언합니다. nn.BCELoss()는 이진 분류에서 사용하는 크로스엔트로피 함수입니다.\n",
    "\n"
   ]
  },
  {
   "cell_type": "code",
   "execution_count": 35,
   "metadata": {},
   "outputs": [],
   "source": [
    "criterion = nn.BCELoss().to(device)\n",
    "optimizer = torch.optim.SGD(model.parameters(), lr=1)  # modified learning rate from 0.1 to 1"
   ]
  },
  {
   "cell_type": "markdown",
   "metadata": {},
   "source": [
    "총 10,001번의 에포크를 수행합니다. 각 에포크마다 역전파가 수행된다고 보면 되겠습니다.\n",
    "\n"
   ]
  },
  {
   "cell_type": "code",
   "execution_count": 36,
   "metadata": {},
   "outputs": [
    {
     "name": "stdout",
     "output_type": "stream",
     "text": [
      "0 0.7510064840316772\n",
      "100 0.6931325197219849\n",
      "200 0.693131685256958\n",
      "300 0.6931307911872864\n",
      "400 0.69312983751297\n",
      "500 0.6931288242340088\n",
      "600 0.6931278109550476\n",
      "700 0.6931265592575073\n",
      "800 0.6931254267692566\n",
      "900 0.6931241750717163\n",
      "1000 0.6931227445602417\n",
      "1100 0.6931213736534119\n",
      "1200 0.6931197643280029\n",
      "1300 0.6931180357933044\n",
      "1400 0.693116307258606\n",
      "1500 0.6931142807006836\n",
      "1600 0.6931121349334717\n",
      "1700 0.6931098103523254\n",
      "1800 0.6931072473526001\n",
      "1900 0.6931044459342957\n",
      "2000 0.6931012868881226\n",
      "2100 0.6930980086326599\n",
      "2200 0.6930941343307495\n",
      "2300 0.6930899024009705\n",
      "2400 0.6930851340293884\n",
      "2500 0.6930798292160034\n",
      "2600 0.6930738091468811\n",
      "2700 0.6930668354034424\n",
      "2800 0.6930588483810425\n",
      "2900 0.6930496692657471\n",
      "3000 0.6930389404296875\n",
      "3100 0.6930262446403503\n",
      "3200 0.6930110454559326\n",
      "3300 0.6929927468299866\n",
      "3400 0.6929703950881958\n",
      "3500 0.6929424405097961\n",
      "3600 0.6929070353507996\n",
      "3700 0.6928611397743225\n",
      "3800 0.6927998065948486\n",
      "3900 0.6927151083946228\n",
      "4000 0.6925932168960571\n",
      "4100 0.6924077868461609\n",
      "4200 0.6921045780181885\n",
      "4300 0.691554605960846\n",
      "4400 0.6903908252716064\n",
      "4500 0.687214732170105\n",
      "4600 0.6733542680740356\n",
      "4700 0.5763147473335266\n",
      "4800 0.3853514492511749\n",
      "4900 0.013417601585388184\n",
      "5000 0.005609314888715744\n",
      "5100 0.0034003127366304398\n",
      "5200 0.002398463198915124\n",
      "5300 0.0018362340051680803\n",
      "5400 0.0014795669121667743\n",
      "5500 0.0012346247676759958\n",
      "5600 0.0010566157288849354\n",
      "5700 0.0009218028862960637\n",
      "5800 0.0008163729798980057\n",
      "5900 0.0007317867130041122\n",
      "6000 0.000662551261484623\n",
      "6100 0.0006048165960237384\n",
      "6200 0.000556031009182334\n",
      "6300 0.0005142551381140947\n",
      "6400 0.0004781312891282141\n",
      "6500 0.000446600402938202\n",
      "6600 0.0004188421880826354\n",
      "6700 0.0003942152252420783\n",
      "6800 0.0003722273977473378\n",
      "6900 0.0003524760250002146\n",
      "7000 0.0003346777812112123\n",
      "7100 0.0003185493405908346\n",
      "7200 0.00030386701109819114\n",
      "7300 0.00029036245541647077\n",
      "7400 0.00027803564444184303\n",
      "7500 0.0002666628861334175\n",
      "7600 0.0002561547444202006\n",
      "7700 0.0002464217832311988\n",
      "7800 0.00023738943855278194\n",
      "7900 0.00022895337315276265\n",
      "8000 0.00022112845908850431\n",
      "8100 0.00021373583876993507\n",
      "8200 0.00020686493371613324\n",
      "8300 0.0002003666595555842\n",
      "8400 0.00019427086226642132\n",
      "8500 0.00018856259703170508\n",
      "8600 0.00018315244233235717\n",
      "8700 0.0001780404127202928\n",
      "8800 0.00017318176105618477\n",
      "8900 0.0001685615861788392\n",
      "9000 0.00016417990264017135\n",
      "9100 0.00016003668133635074\n",
      "9200 0.0001560872478876263\n",
      "9300 0.0001523017417639494\n",
      "9400 0.00014871000894345343\n",
      "9500 0.00014528223255183548\n",
      "9600 0.00014200349687598646\n",
      "9700 0.0001388290838804096\n",
      "9800 0.00013583354302681983\n",
      "9900 0.00013292740914039314\n",
      "10000 0.00013018521713092923\n"
     ]
    }
   ],
   "source": [
    "arr = []\n",
    "for epoch in range(10001):\n",
    "    optimizer.zero_grad()\n",
    "    hypothesis = model(X) #forward\n",
    "    \n",
    "    cost = criterion(hypothesis, Y)\n",
    "    cost.backward()\n",
    "    optimizer.step()\n",
    "\n",
    "    if epoch % 100 == 0:\n",
    "        arr.append(cost.item())\n",
    "        print(epoch, cost.item())"
   ]
  },
  {
   "cell_type": "code",
   "execution_count": 40,
   "metadata": {},
   "outputs": [
    {
     "data": {
      "image/png": "[encoded data removed]",
      "text/plain": [
       "<Figure size 432x288 with 1 Axes>"
      ]
     },
     "metadata": {
      "needs_background": "light"
     },
     "output_type": "display_data"
    }
   ],
   "source": [
    "import matplotlib.pyplot as plt\n",
    "\n",
    "plt.xlabel('epoch')\n",
    "plt.ylabel('cost')\n",
    "plt.plot(arr, 'g')\n",
    "\n",
    "plt.show()"
   ]
  },
  {
   "cell_type": "markdown",
   "metadata": {},
   "source": [
    "***\n",
    "\n",
    "## 2. 학습된 다층 퍼셉트론의 예측값 확인하기\n",
    "\n",
    "이제 모델이 XOR 문제를 풀 수 있는지 테스트 해봅시다.\n",
    "\n"
   ]
  },
  {
   "cell_type": "code",
   "execution_count": 53,
   "metadata": {},
   "outputs": [
    {
     "name": "stdout",
     "output_type": "stream",
     "text": [
      "모델의 출력값(Hypothesis):  [1.12742426e-04 9.99881148e-01 9.99875903e-01 1.64810976e-04]\n",
      "모델의 예측값(Predicted):  [0. 1. 1. 0.]\n",
      "실제값(Y):  [0. 1. 1. 0.]\n",
      "정확도(Accuracy):  1.0\n"
     ]
    }
   ],
   "source": [
    "with torch.no_grad():\n",
    "    hypothesis = model(X)\n",
    "    predicted = (hypothesis > 0.5).float()\n",
    "    accuracy = (predicted == Y).float().mean()\n",
    "    print('모델의 출력값(Hypothesis): ', hypothesis.detach().squeeze(-1).cpu().numpy())\n",
    "    print('모델의 예측값(Predicted): ', predicted.detach().squeeze(-1).cpu().numpy())\n",
    "    print('실제값(Y): ', Y.cpu().squeeze(-1).numpy())\n",
    "    print('정확도(Accuracy): ', accuracy.item())"
   ]
  },
  {
   "cell_type": "markdown",
   "metadata": {},
   "source": [
    "실제값은 0, 1, 1, 0이며 예측값은 0, 1, 1, 0으로 문제를 해결하는 모습을 보여줍니다.\n",
    "\n"
   ]
  },
  {
   "cell_type": "code",
   "execution_count": null,
   "metadata": {},
   "outputs": [],
   "source": []
  }
 ],
 "metadata": {
  "kernelspec": {
   "display_name": "torch",
   "language": "python",
   "name": "torch"
  },
  "language_info": {
   "codemirror_mode": {
    "name": "ipython",
    "version": 3
   },
   "file_extension": ".py",
   "mimetype": "text/x-python",
   "name": "python",
   "nbconvert_exporter": "python",
   "pygments_lexer": "ipython3",
   "version": "3.7.9"
  }
 },
 "nbformat": 4,
 "nbformat_minor": 4
}
